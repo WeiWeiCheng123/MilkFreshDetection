{
 "cells": [
  {
   "cell_type": "code",
   "execution_count": 1,
   "metadata": {
    "colab": {},
    "colab_type": "code",
    "id": "Q5sK0d3WhlOa"
   },
   "outputs": [],
   "source": [
    "import tensorflow as tf\n",
    "import numpy\n",
    "import pandas as pd\n",
    "numpy.random.seed(10)\n",
    "from sklearn import preprocessing\n",
    "from sklearn.utils import shuffle\n",
    "import os\n",
    "import fileinput"
   ]
  },
  {
   "cell_type": "code",
   "execution_count": 2,
   "metadata": {
    "colab": {},
    "colab_type": "code",
    "id": "pBCYY4e8dB7-"
   },
   "outputs": [],
   "source": [
    "df = pd.read_excel(\"data/1129milk/input.xlsx\")"
   ]
  },
  {
   "cell_type": "code",
   "execution_count": 3,
   "metadata": {},
   "outputs": [],
   "source": [
    "ndarray = df.values\n",
    "df_Label = ndarray[:,0:1]\n",
    "df_Features = ndarray[:,1:122]\n"
   ]
  },
  {
   "cell_type": "code",
   "execution_count": 5,
   "metadata": {},
   "outputs": [],
   "source": [
    "#msk = numpy.random.rand(len(ndarray)) < 0.7\n",
    "#train_df = ndarray[msk]\n",
    "#test_df = ndarray[~msk]"
   ]
  },
  {
   "cell_type": "code",
   "execution_count": 7,
   "metadata": {},
   "outputs": [
    {
     "data": {
      "text/plain": [
       "(109, 122)"
      ]
     },
     "execution_count": 7,
     "metadata": {},
     "output_type": "execute_result"
    }
   ],
   "source": [
    "#train_df.shape"
   ]
  },
  {
   "cell_type": "code",
   "execution_count": 8,
   "metadata": {},
   "outputs": [],
   "source": [
    "#pd.DataFrame(test_df).to_csv(\"data/123.csv\")"
   ]
  },
  {
   "cell_type": "code",
   "execution_count": 4,
   "metadata": {
    "scrolled": true
   },
   "outputs": [
    {
     "data": {
      "text/plain": [
       "array([[12.395233 , 11.185388 ,  8.591466 , ..., 28.587265 , 24.56979  ,\n",
       "        21.945053 ],\n",
       "       [12.395233 , 11.185388 ,  8.591466 , ..., 28.587265 , 24.56979  ,\n",
       "        21.945053 ],\n",
       "       [ 7.6063037,  6.338762 ,  4.6240187, ..., 25.064125 , 20.670801 ,\n",
       "        17.740328 ],\n",
       "       ...,\n",
       "       [ 8.493525 ,  6.2123933,  2.6833553, ..., 38.111294 , 33.81574  ,\n",
       "        30.342077 ],\n",
       "       [ 3.7980077,  1.9675654,  0.5300133, ..., 32.412384 , 28.557667 ,\n",
       "        26.653084 ],\n",
       "       [ 4.1031756,  3.512163 ,  2.7512553, ..., 31.342113 , 27.283508 ,\n",
       "        26.149073 ]])"
      ]
     },
     "execution_count": 4,
     "metadata": {},
     "output_type": "execute_result"
    }
   ],
   "source": [
    "df_Features"
   ]
  },
  {
   "cell_type": "code",
   "execution_count": 5,
   "metadata": {
    "colab": {},
    "colab_type": "code",
    "id": "m_x__N4WibqP"
   },
   "outputs": [],
   "source": [
    "def Standardize(Features):    \n",
    "\n",
    "    minmax_scale = preprocessing.MinMaxScaler(feature_range=(0, 1))\n",
    "    \n",
    "    scaledFeatures=minmax_scale.fit_transform(Features) \n",
    "    return scaledFeatures"
   ]
  },
  {
   "cell_type": "code",
   "execution_count": 6,
   "metadata": {},
   "outputs": [],
   "source": [
    "std_df_Features=Standardize(df_Features)"
   ]
  },
  {
   "cell_type": "code",
   "execution_count": 7,
   "metadata": {},
   "outputs": [],
   "source": [
    "std_input=numpy.hstack([df_Label,std_df_Features])\n",
    "std_input=shuffle(std_input)"
   ]
  },
  {
   "cell_type": "code",
   "execution_count": 8,
   "metadata": {},
   "outputs": [],
   "source": [
    "msk = numpy.random.rand(len(std_input)) < 0.7\n",
    "train_df = std_input[msk]\n",
    "test_df = std_input[~msk]"
   ]
  },
  {
   "cell_type": "code",
   "execution_count": 9,
   "metadata": {},
   "outputs": [
    {
     "data": {
      "text/plain": [
       "(117, 122)"
      ]
     },
     "execution_count": 9,
     "metadata": {},
     "output_type": "execute_result"
    }
   ],
   "source": [
    "train_df.shape"
   ]
  },
  {
   "cell_type": "code",
   "execution_count": 10,
   "metadata": {},
   "outputs": [],
   "source": [
    "def Splite(raw_df):    \n",
    "    Label = raw_df[:,0:1]\n",
    "    Features = raw_df[:,1:122]\n",
    "    \n",
    "    return Features,Label"
   ]
  },
  {
   "cell_type": "code",
   "execution_count": 11,
   "metadata": {
    "colab": {},
    "colab_type": "code",
    "id": "Arc11zpUike2"
   },
   "outputs": [],
   "source": [
    "train_Features,train_Label=Splite(train_df)\n",
    "test_Features,test_Label=Splite(test_df)"
   ]
  },
  {
   "cell_type": "code",
   "execution_count": 12,
   "metadata": {
    "colab": {},
    "colab_type": "code",
    "id": "ur_dYcH3v_q8",
    "scrolled": false
   },
   "outputs": [],
   "source": [
    "#test_Features\n",
    "#test_Label\n",
    "#train_Features\n",
    "#train_Label\n",
    "#test_Features.dtype\n",
    "#test_Label.dtype"
   ]
  },
  {
   "cell_type": "code",
   "execution_count": 13,
   "metadata": {
    "colab": {
     "base_uri": "https://localhost:8080/",
     "height": 34
    },
    "colab_type": "code",
    "id": "vHxUkBcpjvup",
    "outputId": "04dd2bcb-d113-4b94-a38b-b3e36e275acd"
   },
   "outputs": [
    {
     "data": {
      "text/plain": [
       "(117, 121)"
      ]
     },
     "execution_count": 13,
     "metadata": {},
     "output_type": "execute_result"
    }
   ],
   "source": [
    "#train_Features.shape\n",
    "#test_Features.shape\n",
    "#train_Label.shape\n",
    "#test_Label.shape"
   ]
  },
  {
   "cell_type": "code",
   "execution_count": 14,
   "metadata": {},
   "outputs": [],
   "source": [
    "import matplotlib.pyplot as plt\n",
    "def show_train_history(train_history,train,validation):\n",
    "    plt.plot(train_history.history[train])\n",
    "    plt.plot(train_history.history[validation])\n",
    "    plt.title('Train History')\n",
    "    plt.ylabel(train)\n",
    "    plt.xlabel('Epoch')\n",
    "    plt.legend(['train', 'validation'], loc='upper right')\n",
    "    plt.show()"
   ]
  },
  {
   "cell_type": "code",
   "execution_count": 17,
   "metadata": {
    "colab": {},
    "colab_type": "code",
    "id": "l7SDk99fLOWk",
    "scrolled": true
   },
   "outputs": [
    {
     "name": "stdout",
     "output_type": "stream",
     "text": [
      "Model: \"sequential_1\"\n",
      "_________________________________________________________________\n",
      "Layer (type)                 Output Shape              Param #   \n",
      "=================================================================\n",
      "dense_3 (Dense)              (None, 10)                1220      \n",
      "_________________________________________________________________\n",
      "dense_4 (Dense)              (None, 10)                110       \n",
      "_________________________________________________________________\n",
      "dense_5 (Dense)              (None, 1)                 11        \n",
      "=================================================================\n",
      "Total params: 1,341\n",
      "Trainable params: 1,341\n",
      "Non-trainable params: 0\n",
      "_________________________________________________________________\n",
      "None\n"
     ]
    }
   ],
   "source": [
    "from keras.models import Sequential\n",
    "from keras.layers import Dense\n",
    "from keras.layers import Dropout\n",
    "model = tf.keras.Sequential()\n",
    "\n",
    "\n",
    "model.add(tf.keras.layers.Dense(units=10, input_dim=121, \n",
    "                                kernel_initializer='uniform', activation='relu'))\n",
    "model.add(tf.keras.layers.Dense(units=10, kernel_initializer='uniform', activation='relu'))\n",
    "#model.add(tf.keras.layers.Dense(units=200, kernel_initializer='uniform', activation='relu'))\n",
    "#model.add(tf.keras.layers.Dropout(0.1))\n",
    "model.add(tf.keras.layers.Dense(units=1, kernel_initializer='uniform', activation='sigmoid'))\n",
    "model.compile(loss='binary_crossentropy', optimizer='adam', metrics=['accuracy'])\n",
    "print(model.summary())"
   ]
  },
  {
   "cell_type": "code",
   "execution_count": 18,
   "metadata": {
    "colab": {
     "base_uri": "https://localhost:8080/",
     "height": 493
    },
    "colab_type": "code",
    "id": "qiHEAMa7j4Wu",
    "outputId": "09ac1bf6-9e41-43de-ec5e-4af12d20dcb2",
    "scrolled": true
   },
   "outputs": [
    {
     "name": "stdout",
     "output_type": "stream",
     "text": [
      "Train on 105 samples, validate on 12 samples\n",
      "Epoch 1/40\n",
      "105/105 - 1s - loss: 0.6928 - accuracy: 0.5524 - val_loss: 0.6912 - val_accuracy: 1.0000\n",
      "Epoch 2/40\n",
      "105/105 - 0s - loss: 0.6831 - accuracy: 1.0000 - val_loss: 0.6680 - val_accuracy: 1.0000\n",
      "Epoch 3/40\n",
      "105/105 - 0s - loss: 0.6334 - accuracy: 1.0000 - val_loss: 0.5847 - val_accuracy: 1.0000\n",
      "Epoch 4/40\n",
      "105/105 - 0s - loss: 0.5064 - accuracy: 1.0000 - val_loss: 0.4140 - val_accuracy: 1.0000\n",
      "Epoch 5/40\n",
      "105/105 - 0s - loss: 0.3222 - accuracy: 1.0000 - val_loss: 0.2354 - val_accuracy: 1.0000\n",
      "Epoch 6/40\n",
      "105/105 - 0s - loss: 0.1653 - accuracy: 1.0000 - val_loss: 0.1152 - val_accuracy: 1.0000\n",
      "Epoch 7/40\n",
      "105/105 - 0s - loss: 0.0826 - accuracy: 1.0000 - val_loss: 0.0611 - val_accuracy: 1.0000\n",
      "Epoch 8/40\n",
      "105/105 - 0s - loss: 0.0461 - accuracy: 1.0000 - val_loss: 0.0372 - val_accuracy: 1.0000\n",
      "Epoch 9/40\n",
      "105/105 - 0s - loss: 0.0293 - accuracy: 1.0000 - val_loss: 0.0251 - val_accuracy: 1.0000\n",
      "Epoch 10/40\n",
      "105/105 - 0s - loss: 0.0199 - accuracy: 1.0000 - val_loss: 0.0178 - val_accuracy: 1.0000\n",
      "Epoch 11/40\n",
      "105/105 - 0s - loss: 0.0147 - accuracy: 1.0000 - val_loss: 0.0135 - val_accuracy: 1.0000\n",
      "Epoch 12/40\n",
      "105/105 - 0s - loss: 0.0112 - accuracy: 1.0000 - val_loss: 0.0106 - val_accuracy: 1.0000\n",
      "Epoch 13/40\n",
      "105/105 - 0s - loss: 0.0089 - accuracy: 1.0000 - val_loss: 0.0086 - val_accuracy: 1.0000\n",
      "Epoch 14/40\n",
      "105/105 - 0s - loss: 0.0073 - accuracy: 1.0000 - val_loss: 0.0070 - val_accuracy: 1.0000\n",
      "Epoch 15/40\n",
      "105/105 - 0s - loss: 0.0060 - accuracy: 1.0000 - val_loss: 0.0059 - val_accuracy: 1.0000\n",
      "Epoch 16/40\n",
      "105/105 - 0s - loss: 0.0051 - accuracy: 1.0000 - val_loss: 0.0051 - val_accuracy: 1.0000\n",
      "Epoch 17/40\n",
      "105/105 - 0s - loss: 0.0043 - accuracy: 1.0000 - val_loss: 0.0043 - val_accuracy: 1.0000\n",
      "Epoch 18/40\n",
      "105/105 - 0s - loss: 0.0037 - accuracy: 1.0000 - val_loss: 0.0038 - val_accuracy: 1.0000\n",
      "Epoch 19/40\n",
      "105/105 - 0s - loss: 0.0033 - accuracy: 1.0000 - val_loss: 0.0033 - val_accuracy: 1.0000\n",
      "Epoch 20/40\n",
      "105/105 - 0s - loss: 0.0029 - accuracy: 1.0000 - val_loss: 0.0030 - val_accuracy: 1.0000\n",
      "Epoch 21/40\n",
      "105/105 - 0s - loss: 0.0026 - accuracy: 1.0000 - val_loss: 0.0027 - val_accuracy: 1.0000\n",
      "Epoch 22/40\n",
      "105/105 - 0s - loss: 0.0023 - accuracy: 1.0000 - val_loss: 0.0024 - val_accuracy: 1.0000\n",
      "Epoch 23/40\n",
      "105/105 - 0s - loss: 0.0021 - accuracy: 1.0000 - val_loss: 0.0021 - val_accuracy: 1.0000\n",
      "Epoch 24/40\n",
      "105/105 - 0s - loss: 0.0019 - accuracy: 1.0000 - val_loss: 0.0020 - val_accuracy: 1.0000\n",
      "Epoch 25/40\n",
      "105/105 - 0s - loss: 0.0017 - accuracy: 1.0000 - val_loss: 0.0018 - val_accuracy: 1.0000\n",
      "Epoch 26/40\n",
      "105/105 - 0s - loss: 0.0016 - accuracy: 1.0000 - val_loss: 0.0016 - val_accuracy: 1.0000\n",
      "Epoch 27/40\n",
      "105/105 - 0s - loss: 0.0014 - accuracy: 1.0000 - val_loss: 0.0015 - val_accuracy: 1.0000\n",
      "Epoch 28/40\n",
      "105/105 - 0s - loss: 0.0013 - accuracy: 1.0000 - val_loss: 0.0014 - val_accuracy: 1.0000\n",
      "Epoch 29/40\n",
      "105/105 - 0s - loss: 0.0012 - accuracy: 1.0000 - val_loss: 0.0013 - val_accuracy: 1.0000\n",
      "Epoch 30/40\n",
      "105/105 - 0s - loss: 0.0011 - accuracy: 1.0000 - val_loss: 0.0012 - val_accuracy: 1.0000\n",
      "Epoch 31/40\n",
      "105/105 - 0s - loss: 0.0010 - accuracy: 1.0000 - val_loss: 0.0011 - val_accuracy: 1.0000\n",
      "Epoch 32/40\n",
      "105/105 - 0s - loss: 9.6650e-04 - accuracy: 1.0000 - val_loss: 0.0010 - val_accuracy: 1.0000\n",
      "Epoch 33/40\n",
      "105/105 - 0s - loss: 9.0345e-04 - accuracy: 1.0000 - val_loss: 9.5400e-04 - val_accuracy: 1.0000\n",
      "Epoch 34/40\n",
      "105/105 - 0s - loss: 8.4236e-04 - accuracy: 1.0000 - val_loss: 8.9679e-04 - val_accuracy: 1.0000\n",
      "Epoch 35/40\n",
      "105/105 - 0s - loss: 7.8961e-04 - accuracy: 1.0000 - val_loss: 8.4145e-04 - val_accuracy: 1.0000\n",
      "Epoch 36/40\n",
      "105/105 - 0s - loss: 7.4213e-04 - accuracy: 1.0000 - val_loss: 7.8805e-04 - val_accuracy: 1.0000\n",
      "Epoch 37/40\n",
      "105/105 - 0s - loss: 6.9649e-04 - accuracy: 1.0000 - val_loss: 7.4466e-04 - val_accuracy: 1.0000\n",
      "Epoch 38/40\n",
      "105/105 - 0s - loss: 6.5592e-04 - accuracy: 1.0000 - val_loss: 6.9945e-04 - val_accuracy: 1.0000\n",
      "Epoch 39/40\n",
      "105/105 - 0s - loss: 6.1757e-04 - accuracy: 1.0000 - val_loss: 6.6040e-04 - val_accuracy: 1.0000\n",
      "Epoch 40/40\n",
      "105/105 - 0s - loss: 5.8452e-04 - accuracy: 1.0000 - val_loss: 6.2252e-04 - val_accuracy: 1.0000\n"
     ]
    }
   ],
   "source": [
    "train_history =model.fit(x=train_Features, \n",
    "                         y=train_Label, \n",
    "                         validation_split=0.1, \n",
    "                         epochs=40,\n",
    "                         batch_size=3,verbose=2)"
   ]
  },
  {
   "cell_type": "code",
   "execution_count": 19,
   "metadata": {
    "colab": {
     "base_uri": "https://localhost:8080/",
     "height": 295
    },
    "colab_type": "code",
    "id": "kUHK_injjrq7",
    "outputId": "24f092cf-6ce2-4b9b-eb29-ac1f54f8a87a",
    "scrolled": true
   },
   "outputs": [
    {
     "data": {
      "image/png": "[encoded data removed]",
      "text/plain": [
       "<Figure size 432x288 with 1 Axes>"
      ]
     },
     "metadata": {
      "needs_background": "light"
     },
     "output_type": "display_data"
    }
   ],
   "source": [
    "#show_train_history(train_history,'accuracy','val_accuracy')\n",
    "show_train_history(train_history,'loss','val_loss')"
   ]
  },
  {
   "cell_type": "code",
   "execution_count": 20,
   "metadata": {},
   "outputs": [
    {
     "data": {
      "image/png": "[encoded data removed]",
      "text/plain": [
       "<Figure size 432x288 with 1 Axes>"
      ]
     },
     "metadata": {
      "needs_background": "light"
     },
     "output_type": "display_data"
    }
   ],
   "source": [
    "show_train_history(train_history,'accuracy','val_accuracy')"
   ]
  },
  {
   "cell_type": "code",
   "execution_count": 21,
   "metadata": {
    "colab": {
     "base_uri": "https://localhost:8080/",
     "height": 34
    },
    "colab_type": "code",
    "id": "c-fLQ9BakL5t",
    "outputId": "f55299c7-54f4-4bcc-ce72-f5145ac10f5f",
    "scrolled": true
   },
   "outputs": [
    {
     "name": "stdout",
     "output_type": "stream",
     "text": [
      "\r",
      "43/1 [==========================================================================================================================================================================================================================================================================================================================================================================================================================================================================================================================================================================================================================================================================================================================================================================================================================================================================================================================================================================================================================================================================================================================================================================================================================================================================================================================================] - 0s 8ms/sample - loss: 5.2518e-04 - accuracy: 1.0000\n"
     ]
    }
   ],
   "source": [
    "scores = model.evaluate(x=test_Features, \n",
    "                        y=test_Label)"
   ]
  },
  {
   "cell_type": "code",
   "execution_count": 22,
   "metadata": {
    "colab": {
     "base_uri": "https://localhost:8080/",
     "height": 34
    },
    "colab_type": "code",
    "id": "EKZX__ZymE6N",
    "outputId": "f3c5af5c-3c81-4a52-ff60-6527179f2854"
   },
   "outputs": [
    {
     "data": {
      "text/plain": [
       "1.0"
      ]
     },
     "execution_count": 22,
     "metadata": {},
     "output_type": "execute_result"
    }
   ],
   "source": [
    "scores[1]"
   ]
  },
  {
   "cell_type": "code",
   "execution_count": 23,
   "metadata": {},
   "outputs": [],
   "source": [
    "test = pd.read_excel(\"data/1129milk/36Data.xlsx\")"
   ]
  },
  {
   "cell_type": "code",
   "execution_count": 24,
   "metadata": {},
   "outputs": [],
   "source": [
    "input_test=numpy.vstack([df_Features,test])\n",
    "std_input_test = Standardize(input_test)\n"
   ]
  },
  {
   "cell_type": "code",
   "execution_count": 25,
   "metadata": {},
   "outputs": [
    {
     "data": {
      "text/plain": [
       "array([0.46489292, 0.4442065 , 0.38070761, 0.25561928, 0.00465197,\n",
       "       0.        , 0.        , 0.        , 0.07513481, 0.20862293,\n",
       "       0.5253672 , 0.42446897, 0.35196423, 0.44494958, 0.54083179,\n",
       "       0.63055186, 0.66023062, 0.67721656, 0.47907782, 0.22980093,\n",
       "       0.06858463, 0.04448125, 0.16732591, 0.19654958, 0.20555016,\n",
       "       0.1593962 , 0.11631708, 0.12355628, 0.14826648, 0.17958064,\n",
       "       0.19399952, 0.21797232, 0.22785998, 0.21715054, 0.23147459,\n",
       "       0.23155392, 0.2477973 , 0.27496076, 0.25462215, 0.22070643,\n",
       "       0.19941357, 0.19966093, 0.24415488, 0.26045544, 0.3158466 ,\n",
       "       0.34737766, 0.3692902 , 0.40912077, 0.40131388, 0.39102257,\n",
       "       0.38050262, 0.39598887, 0.4767514 , 0.54521664, 0.65425404,\n",
       "       0.76906964, 0.78307193, 0.78640105, 0.75251572, 0.77338406,\n",
       "       0.77325819, 0.7214756 , 0.69059492, 0.61128504, 0.52956536,\n",
       "       0.48337034, 0.47219745, 0.45938475, 0.51750542, 0.57789529,\n",
       "       0.68368733, 0.78613862, 0.83442368, 0.79344974, 0.78788778,\n",
       "       0.8373147 , 0.85055483, 0.84263122, 0.83507777, 0.83705251,\n",
       "       0.83483815, 0.83714231, 0.84245704, 0.85252475, 0.87267579,\n",
       "       0.8850289 , 0.87674432, 0.86373069, 0.8472053 , 0.8198632 ,\n",
       "       0.79316981, 0.78653618, 0.75553457, 0.7415372 , 0.73266452,\n",
       "       0.73142191, 0.72912805, 0.70449389, 0.66495959, 0.64033953,\n",
       "       0.60952979, 0.58476775, 0.55885818, 0.52612255, 0.49370293,\n",
       "       0.45147857, 0.41443752, 0.39656227, 0.37605396, 0.36466426,\n",
       "       0.36985958, 0.37185151, 0.34750519, 0.3451577 , 0.37237039,\n",
       "       0.38971993, 0.42114048, 0.45030358, 0.51146668, 0.4969792 ,\n",
       "       0.46365196])"
      ]
     },
     "execution_count": 25,
     "metadata": {},
     "output_type": "execute_result"
    }
   ],
   "source": [
    "std_input_test[80]"
   ]
  },
  {
   "cell_type": "code",
   "execution_count": 26,
   "metadata": {},
   "outputs": [],
   "source": [
    "prediction=model.predict(std_input_test)"
   ]
  },
  {
   "cell_type": "code",
   "execution_count": 27,
   "metadata": {
    "scrolled": false
   },
   "outputs": [
    {
     "data": {
      "text/plain": [
       "array([0.00339693], dtype=float32)"
      ]
     },
     "execution_count": 27,
     "metadata": {},
     "output_type": "execute_result"
    }
   ],
   "source": [
    "prediction[80]"
   ]
  },
  {
   "cell_type": "code",
   "execution_count": 28,
   "metadata": {},
   "outputs": [],
   "source": [
    "test_all= pd.read_excel(\"data/0928milk/test remain.xlsx\")"
   ]
  },
  {
   "cell_type": "code",
   "execution_count": 29,
   "metadata": {},
   "outputs": [],
   "source": [
    "testall_array = test_all.values\n",
    "testall_Label = testall_array[:,0:1]\n",
    "testall_Features = testall_array[:,1:122]\n",
    "input_testall=numpy.vstack([df_Features,testall_Features])\n",
    "std_input_testall = Standardize(input_testall)"
   ]
  },
  {
   "cell_type": "code",
   "execution_count": 30,
   "metadata": {},
   "outputs": [
    {
     "data": {
      "text/plain": [
       "(185, 121)"
      ]
     },
     "execution_count": 30,
     "metadata": {},
     "output_type": "execute_result"
    }
   ],
   "source": [
    "std_testall=std_input_testall[80:]\n",
    "std_testall.shape"
   ]
  },
  {
   "cell_type": "code",
   "execution_count": 31,
   "metadata": {},
   "outputs": [],
   "source": [
    "prediction_all=model.predict(std_testall)"
   ]
  },
  {
   "cell_type": "code",
   "execution_count": 32,
   "metadata": {},
   "outputs": [
    {
     "ename": "ValueError",
     "evalue": "all the input array dimensions for the concatenation axis must match exactly, but along dimension 0, the array at index 0 has size 185 and the array at index 1 has size 105",
     "output_type": "error",
     "traceback": [
      "\u001b[1;31m---------------------------------------------------------------------------\u001b[0m",
      "\u001b[1;31mValueError\u001b[0m                                Traceback (most recent call last)",
      "\u001b[1;32m<ipython-input-32-5fa14443ab5c>\u001b[0m in \u001b[0;36m<module>\u001b[1;34m\u001b[0m\n\u001b[1;32m----> 1\u001b[1;33m \u001b[0mresult\u001b[0m\u001b[1;33m=\u001b[0m\u001b[0mnumpy\u001b[0m\u001b[1;33m.\u001b[0m\u001b[0mhstack\u001b[0m\u001b[1;33m(\u001b[0m\u001b[1;33m[\u001b[0m\u001b[0mprediction_all\u001b[0m\u001b[1;33m,\u001b[0m\u001b[0mtestall_Label\u001b[0m\u001b[1;33m]\u001b[0m\u001b[1;33m)\u001b[0m\u001b[1;33m\u001b[0m\u001b[1;33m\u001b[0m\u001b[0m\n\u001b[0m",
      "\u001b[1;32m<__array_function__ internals>\u001b[0m in \u001b[0;36mhstack\u001b[1;34m(*args, **kwargs)\u001b[0m\n",
      "\u001b[1;32mD:\\Anaconda3\\envs\\tensorflow\\lib\\site-packages\\numpy\\core\\shape_base.py\u001b[0m in \u001b[0;36mhstack\u001b[1;34m(tup)\u001b[0m\n\u001b[0;32m    342\u001b[0m         \u001b[1;32mreturn\u001b[0m \u001b[0m_nx\u001b[0m\u001b[1;33m.\u001b[0m\u001b[0mconcatenate\u001b[0m\u001b[1;33m(\u001b[0m\u001b[0marrs\u001b[0m\u001b[1;33m,\u001b[0m \u001b[1;36m0\u001b[0m\u001b[1;33m)\u001b[0m\u001b[1;33m\u001b[0m\u001b[1;33m\u001b[0m\u001b[0m\n\u001b[0;32m    343\u001b[0m     \u001b[1;32melse\u001b[0m\u001b[1;33m:\u001b[0m\u001b[1;33m\u001b[0m\u001b[1;33m\u001b[0m\u001b[0m\n\u001b[1;32m--> 344\u001b[1;33m         \u001b[1;32mreturn\u001b[0m \u001b[0m_nx\u001b[0m\u001b[1;33m.\u001b[0m\u001b[0mconcatenate\u001b[0m\u001b[1;33m(\u001b[0m\u001b[0marrs\u001b[0m\u001b[1;33m,\u001b[0m \u001b[1;36m1\u001b[0m\u001b[1;33m)\u001b[0m\u001b[1;33m\u001b[0m\u001b[1;33m\u001b[0m\u001b[0m\n\u001b[0m\u001b[0;32m    345\u001b[0m \u001b[1;33m\u001b[0m\u001b[0m\n\u001b[0;32m    346\u001b[0m \u001b[1;33m\u001b[0m\u001b[0m\n",
      "\u001b[1;32m<__array_function__ internals>\u001b[0m in \u001b[0;36mconcatenate\u001b[1;34m(*args, **kwargs)\u001b[0m\n",
      "\u001b[1;31mValueError\u001b[0m: all the input array dimensions for the concatenation axis must match exactly, but along dimension 0, the array at index 0 has size 185 and the array at index 1 has size 105"
     ]
    }
   ],
   "source": [
    "result=numpy.hstack([prediction_all,testall_Label])"
   ]
  },
  {
   "cell_type": "code",
   "execution_count": 84,
   "metadata": {
    "scrolled": true
   },
   "outputs": [
    {
     "data": {
      "text/plain": [
       "array([[0.99467927, 1.        ],\n",
       "       [0.99103284, 1.        ],\n",
       "       [0.99745178, 1.        ],\n",
       "       [0.96315306, 1.        ],\n",
       "       [0.99674475, 1.        ],\n",
       "       [0.98343623, 1.        ],\n",
       "       [0.97419345, 1.        ],\n",
       "       [0.98702049, 1.        ],\n",
       "       [0.9894712 , 1.        ],\n",
       "       [0.98825622, 1.        ],\n",
       "       [0.99249697, 1.        ],\n",
       "       [0.99172902, 1.        ],\n",
       "       [0.96999562, 1.        ],\n",
       "       [0.99255323, 1.        ],\n",
       "       [0.99337244, 1.        ],\n",
       "       [0.98538053, 1.        ],\n",
       "       [0.99474728, 1.        ],\n",
       "       [0.99303734, 1.        ],\n",
       "       [0.97463864, 1.        ],\n",
       "       [0.97732025, 0.        ],\n",
       "       [0.99515593, 0.        ],\n",
       "       [0.99317265, 0.        ],\n",
       "       [0.98102272, 0.        ],\n",
       "       [0.98914051, 0.        ],\n",
       "       [0.9738875 , 0.        ],\n",
       "       [0.98556721, 0.        ],\n",
       "       [0.99733818, 0.        ],\n",
       "       [0.99304271, 0.        ],\n",
       "       [0.98283029, 0.        ],\n",
       "       [0.99679124, 0.        ],\n",
       "       [0.99550021, 0.        ],\n",
       "       [0.99627316, 0.        ],\n",
       "       [0.99056005, 0.        ],\n",
       "       [0.97772801, 0.        ],\n",
       "       [0.99414766, 0.        ],\n",
       "       [0.99647683, 0.        ],\n",
       "       [0.99047232, 0.        ],\n",
       "       [0.99524295, 0.        ],\n",
       "       [0.9948234 , 0.        ],\n",
       "       [0.98806036, 0.        ],\n",
       "       [0.55075383, 0.        ],\n",
       "       [0.78205407, 0.        ],\n",
       "       [0.83780855, 0.        ],\n",
       "       [0.59159064, 0.        ],\n",
       "       [0.74672222, 0.        ],\n",
       "       [0.97312498, 0.        ],\n",
       "       [0.72696674, 0.        ],\n",
       "       [0.58769476, 0.        ],\n",
       "       [0.65306151, 0.        ],\n",
       "       [0.87648791, 0.        ],\n",
       "       [0.75112867, 0.        ],\n",
       "       [0.84476107, 0.        ],\n",
       "       [0.82532513, 0.        ],\n",
       "       [0.61112314, 0.        ],\n",
       "       [0.55561423, 0.        ],\n",
       "       [0.23934677, 0.        ],\n",
       "       [0.78837967, 0.        ],\n",
       "       [0.38625813, 0.        ],\n",
       "       [0.35304421, 0.        ],\n",
       "       [0.33071527, 0.        ],\n",
       "       [0.17716491, 0.        ],\n",
       "       [0.69223976, 0.        ],\n",
       "       [0.23616284, 0.        ],\n",
       "       [0.13048491, 0.        ],\n",
       "       [0.4797653 , 0.        ],\n",
       "       [0.18606558, 0.        ],\n",
       "       [0.30379474, 0.        ],\n",
       "       [0.07098076, 0.        ],\n",
       "       [0.05556977, 0.        ],\n",
       "       [0.1465517 , 0.        ],\n",
       "       [0.166646  , 0.        ],\n",
       "       [0.08001116, 0.        ],\n",
       "       [0.06372261, 0.        ],\n",
       "       [0.05360615, 0.        ],\n",
       "       [0.11220157, 0.        ],\n",
       "       [0.171325  , 0.        ],\n",
       "       [0.15479341, 0.        ],\n",
       "       [0.20998758, 0.        ],\n",
       "       [0.08239526, 0.        ],\n",
       "       [0.02969092, 0.        ],\n",
       "       [0.29268205, 0.        ],\n",
       "       [0.27559429, 0.        ],\n",
       "       [0.09944522, 0.        ],\n",
       "       [0.19398007, 0.        ],\n",
       "       [0.05916417, 0.        ],\n",
       "       [0.25867477, 0.        ],\n",
       "       [0.02526611, 0.        ],\n",
       "       [0.02913573, 0.        ],\n",
       "       [0.03026673, 0.        ],\n",
       "       [0.02810198, 0.        ],\n",
       "       [0.07228091, 0.        ],\n",
       "       [0.19781545, 0.        ],\n",
       "       [0.02299237, 0.        ],\n",
       "       [0.00784791, 0.        ],\n",
       "       [0.06410658, 0.        ],\n",
       "       [0.03272402, 0.        ],\n",
       "       [0.00357381, 0.        ],\n",
       "       [0.01975301, 0.        ],\n",
       "       [0.01859015, 0.        ],\n",
       "       [0.0179525 , 0.        ],\n",
       "       [0.00271305, 0.        ],\n",
       "       [0.01099965, 0.        ],\n",
       "       [0.01012483, 0.        ],\n",
       "       [0.0031361 , 0.        ],\n",
       "       [0.01467668, 0.        ]])"
      ]
     },
     "execution_count": 84,
     "metadata": {},
     "output_type": "execute_result"
    }
   ],
   "source": [
    "result"
   ]
  },
  {
   "cell_type": "code",
   "execution_count": 83,
   "metadata": {},
   "outputs": [
    {
     "name": "stdout",
     "output_type": "stream",
     "text": [
      "0.638095238095238\n"
     ]
    }
   ],
   "source": [
    "ans=0\n",
    "for i in range(len(result)):\n",
    "    if result[i,0]>0.5 and result[i,1]==1:\n",
    "        ans=ans+1\n",
    "    if result[i,0]<0.5 and result[i,1]==0:\n",
    "        ans=ans+1\n",
    "    \n",
    "print(ans/len(result))"
   ]
  },
  {
   "cell_type": "code",
   "execution_count": 33,
   "metadata": {
    "colab": {
     "base_uri": "https://localhost:8080/",
     "height": 156
    },
    "colab_type": "code",
    "id": "gH5kg803mGST",
    "outputId": "4910b3f6-f9bb-433b-d192-6c5958822c98"
   },
   "outputs": [],
   "source": [
    "converter = tf.lite.TFLiteConverter.from_keras_model(model)\n",
    "tflite_model = converter.convert()\n",
    "open(\"spectrum_milk_freshness_detection_1129.tflite\", \"wb\").write(tflite_model)\n",
    "#===========================================\n",
    "model.save('spectrum_milk_freshness_detection_1129.h5')"
   ]
  },
  {
   "cell_type": "code",
   "execution_count": null,
   "metadata": {
    "colab": {},
    "colab_type": "code",
    "id": "tlhNnevdv_rr",
    "outputId": "0d5c2888-9c25-4fb5-bee8-2cd6474c487a"
   },
   "outputs": [],
   "source": []
  },
  {
   "cell_type": "code",
   "execution_count": null,
   "metadata": {
    "colab": {},
    "colab_type": "code",
    "id": "W7IiUWsUv_ru"
   },
   "outputs": [],
   "source": []
  },
  {
   "cell_type": "code",
   "execution_count": null,
   "metadata": {},
   "outputs": [],
   "source": []
  }
 ],
 "metadata": {
  "colab": {
   "collapsed_sections": [],
   "name": "spectrum_milk_freshness_detection.ipynb",
   "provenance": []
  },
  "kernelspec": {
   "display_name": "Python 3",
   "language": "python",
   "name": "python3"
  },
  "language_info": {
   "codemirror_mode": {
    "name": "ipython",
    "version": 3
   },
   "file_extension": ".py",
   "mimetype": "text/x-python",
   "name": "python",
   "nbconvert_exporter": "python",
   "pygments_lexer": "ipython3",
   "version": "3.7.5"
  }
 },
 "nbformat": 4,
 "nbformat_minor": 1
}
